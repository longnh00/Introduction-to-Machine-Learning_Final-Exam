{
 "cells": [
  {
   "cell_type": "code",
   "execution_count": 1,
   "id": "61124fcb-25e3-49fe-b701-a6c9fb688680",
   "metadata": {
    "tags": []
   },
   "outputs": [],
   "source": [
    "#51800577_NguyenHoangLong\n",
    "#51800890_ChauViHoangLong"
   ]
  },
  {
   "cell_type": "code",
   "execution_count": 10,
   "id": "6ec5a3f2-8e87-4eb8-b751-15cb7a098b8e",
   "metadata": {
    "tags": []
   },
   "outputs": [],
   "source": [
    "import numpy as np\n",
    "import pandas as pd\n",
    "from sklearn.model_selection import train_test_split\n",
    "from sklearn.preprocessing import StandardScaler\n",
    "from keras.models import Sequential\n",
    "from keras.layers import Dense, Dropout\n",
    "from keras.optimizers import SGD, RMSprop, Adagrad\n",
    "from tensorflow.keras.callbacks import EarlyStopping"
   ]
  },
  {
   "cell_type": "code",
   "execution_count": 28,
   "id": "d9680c54-7e7b-436b-ae8b-5742c499acef",
   "metadata": {
    "tags": []
   },
   "outputs": [],
   "source": [
    "df = pd.read_csv(\"heart_failure_clinical_records.csv\")\n",
    "\n",
    "X = df.drop(\"DEATH_EVENT\", axis=1)\n",
    "y = df[\"DEATH_EVENT\"]\n",
    "\n",
    "X = X.astype(np.float32)\n",
    "\n",
    "X_train, X_test, y_train, y_test = train_test_split(X, y, test_size=0.25, random_state=42)\n",
    "\n",
    "scaler = StandardScaler()\n",
    "X_train = scaler.fit_transform(X_train)\n",
    "X_test = scaler.transform(X_test)\n",
    "\n",
    "model = Sequential()\n",
    "model.add(Dense(12, activation=\"relu\"))\n",
    "model.add(Dense(8, activation=\"relu\"))\n",
    "model.add(Dense(1, activation=\"sigmoid\"))"
   ]
  },
  {
   "cell_type": "code",
   "execution_count": 29,
   "id": "4a0bcf87-856e-48f8-a292-a0d6d3353fbf",
   "metadata": {
    "tags": []
   },
   "outputs": [
    {
     "name": "stderr",
     "output_type": "stream",
     "text": [
      "WARNING:absl:At this time, the v2.11+ optimizer `tf.keras.optimizers.SGD` runs slowly on M1/M2 Macs, please use the legacy Keras optimizer instead, located at `tf.keras.optimizers.legacy.SGD`.\n"
     ]
    },
    {
     "name": "stdout",
     "output_type": "stream",
     "text": [
      "Epoch 1/1000\n",
      "7/7 [==============================] - 0s 11ms/step - loss: 0.6217 - accuracy: 0.7143 - val_loss: 0.7714 - val_accuracy: 0.5867\n",
      "Epoch 2/1000\n",
      "7/7 [==============================] - 0s 2ms/step - loss: 0.6144 - accuracy: 0.7232 - val_loss: 0.7646 - val_accuracy: 0.5867\n",
      "Epoch 3/1000\n",
      "7/7 [==============================] - 0s 2ms/step - loss: 0.6072 - accuracy: 0.7232 - val_loss: 0.7583 - val_accuracy: 0.5867\n",
      "Epoch 4/1000\n",
      "7/7 [==============================] - 0s 2ms/step - loss: 0.6005 - accuracy: 0.7321 - val_loss: 0.7526 - val_accuracy: 0.5867\n",
      "Epoch 5/1000\n",
      "7/7 [==============================] - 0s 2ms/step - loss: 0.5937 - accuracy: 0.7366 - val_loss: 0.7470 - val_accuracy: 0.5733\n",
      "Epoch 6/1000\n",
      "7/7 [==============================] - 0s 2ms/step - loss: 0.5873 - accuracy: 0.7500 - val_loss: 0.7417 - val_accuracy: 0.5733\n",
      "Epoch 7/1000\n",
      "7/7 [==============================] - 0s 2ms/step - loss: 0.5809 - accuracy: 0.7589 - val_loss: 0.7366 - val_accuracy: 0.5733\n",
      "Epoch 8/1000\n",
      "7/7 [==============================] - 0s 2ms/step - loss: 0.5749 - accuracy: 0.7589 - val_loss: 0.7316 - val_accuracy: 0.5733\n",
      "Epoch 9/1000\n",
      "7/7 [==============================] - 0s 2ms/step - loss: 0.5687 - accuracy: 0.7634 - val_loss: 0.7271 - val_accuracy: 0.5733\n",
      "Epoch 10/1000\n",
      "7/7 [==============================] - 0s 3ms/step - loss: 0.5630 - accuracy: 0.7634 - val_loss: 0.7232 - val_accuracy: 0.5733\n",
      "Epoch 11/1000\n",
      "7/7 [==============================] - 0s 2ms/step - loss: 0.5567 - accuracy: 0.7679 - val_loss: 0.7193 - val_accuracy: 0.5733\n",
      "Epoch 12/1000\n",
      "7/7 [==============================] - 0s 2ms/step - loss: 0.5507 - accuracy: 0.7723 - val_loss: 0.7153 - val_accuracy: 0.5733\n",
      "Epoch 13/1000\n",
      "7/7 [==============================] - 0s 2ms/step - loss: 0.5448 - accuracy: 0.7723 - val_loss: 0.7115 - val_accuracy: 0.5733\n",
      "Epoch 14/1000\n",
      "7/7 [==============================] - 0s 2ms/step - loss: 0.5389 - accuracy: 0.7768 - val_loss: 0.7078 - val_accuracy: 0.5733\n",
      "Epoch 15/1000\n",
      "7/7 [==============================] - 0s 2ms/step - loss: 0.5333 - accuracy: 0.7768 - val_loss: 0.7041 - val_accuracy: 0.5600\n",
      "Epoch 16/1000\n",
      "7/7 [==============================] - 0s 2ms/step - loss: 0.5280 - accuracy: 0.7768 - val_loss: 0.7005 - val_accuracy: 0.5600\n",
      "Epoch 17/1000\n",
      "7/7 [==============================] - 0s 2ms/step - loss: 0.5225 - accuracy: 0.7812 - val_loss: 0.6967 - val_accuracy: 0.5600\n",
      "Epoch 18/1000\n",
      "7/7 [==============================] - 0s 2ms/step - loss: 0.5172 - accuracy: 0.7812 - val_loss: 0.6931 - val_accuracy: 0.5467\n",
      "Epoch 19/1000\n",
      "7/7 [==============================] - 0s 2ms/step - loss: 0.5119 - accuracy: 0.7812 - val_loss: 0.6896 - val_accuracy: 0.5467\n",
      "Epoch 20/1000\n",
      "7/7 [==============================] - 0s 2ms/step - loss: 0.5067 - accuracy: 0.7812 - val_loss: 0.6863 - val_accuracy: 0.5467\n",
      "Epoch 21/1000\n",
      "7/7 [==============================] - 0s 2ms/step - loss: 0.5020 - accuracy: 0.7768 - val_loss: 0.6829 - val_accuracy: 0.5733\n",
      "Epoch 22/1000\n",
      "7/7 [==============================] - 0s 2ms/step - loss: 0.4968 - accuracy: 0.7768 - val_loss: 0.6797 - val_accuracy: 0.5867\n",
      "Epoch 23/1000\n",
      "7/7 [==============================] - 0s 2ms/step - loss: 0.4921 - accuracy: 0.7723 - val_loss: 0.6770 - val_accuracy: 0.5867\n",
      "Epoch 24/1000\n",
      "7/7 [==============================] - 0s 2ms/step - loss: 0.4873 - accuracy: 0.7723 - val_loss: 0.6742 - val_accuracy: 0.6000\n",
      "Epoch 25/1000\n",
      "7/7 [==============================] - 0s 2ms/step - loss: 0.4826 - accuracy: 0.7723 - val_loss: 0.6715 - val_accuracy: 0.6000\n",
      "Epoch 26/1000\n",
      "7/7 [==============================] - 0s 2ms/step - loss: 0.4778 - accuracy: 0.7768 - val_loss: 0.6686 - val_accuracy: 0.6000\n",
      "Epoch 27/1000\n",
      "7/7 [==============================] - 0s 2ms/step - loss: 0.4733 - accuracy: 0.7812 - val_loss: 0.6660 - val_accuracy: 0.6000\n",
      "Epoch 28/1000\n",
      "7/7 [==============================] - 0s 2ms/step - loss: 0.4688 - accuracy: 0.7902 - val_loss: 0.6634 - val_accuracy: 0.6000\n",
      "Epoch 29/1000\n",
      "7/7 [==============================] - 0s 2ms/step - loss: 0.4643 - accuracy: 0.7946 - val_loss: 0.6610 - val_accuracy: 0.6000\n",
      "Epoch 30/1000\n",
      "7/7 [==============================] - 0s 2ms/step - loss: 0.4601 - accuracy: 0.7946 - val_loss: 0.6587 - val_accuracy: 0.6000\n",
      "Epoch 31/1000\n",
      "7/7 [==============================] - 0s 2ms/step - loss: 0.4558 - accuracy: 0.7946 - val_loss: 0.6564 - val_accuracy: 0.6133\n",
      "Epoch 32/1000\n",
      "7/7 [==============================] - 0s 2ms/step - loss: 0.4517 - accuracy: 0.7991 - val_loss: 0.6542 - val_accuracy: 0.6133\n",
      "Epoch 33/1000\n",
      "7/7 [==============================] - 0s 2ms/step - loss: 0.4475 - accuracy: 0.8036 - val_loss: 0.6522 - val_accuracy: 0.6267\n",
      "Epoch 34/1000\n",
      "7/7 [==============================] - 0s 2ms/step - loss: 0.4435 - accuracy: 0.7946 - val_loss: 0.6503 - val_accuracy: 0.6267\n",
      "Epoch 35/1000\n",
      "7/7 [==============================] - 0s 2ms/step - loss: 0.4393 - accuracy: 0.8036 - val_loss: 0.6486 - val_accuracy: 0.6267\n",
      "Epoch 36/1000\n",
      "7/7 [==============================] - 0s 2ms/step - loss: 0.4353 - accuracy: 0.8125 - val_loss: 0.6467 - val_accuracy: 0.6267\n",
      "Epoch 37/1000\n",
      "7/7 [==============================] - 0s 2ms/step - loss: 0.4314 - accuracy: 0.8125 - val_loss: 0.6449 - val_accuracy: 0.6267\n",
      "Epoch 38/1000\n",
      "7/7 [==============================] - 0s 3ms/step - loss: 0.4275 - accuracy: 0.8214 - val_loss: 0.6433 - val_accuracy: 0.6267\n",
      "Epoch 39/1000\n",
      "7/7 [==============================] - 0s 2ms/step - loss: 0.4237 - accuracy: 0.8214 - val_loss: 0.6418 - val_accuracy: 0.6267\n",
      "Epoch 40/1000\n",
      "7/7 [==============================] - 0s 2ms/step - loss: 0.4200 - accuracy: 0.8214 - val_loss: 0.6403 - val_accuracy: 0.6267\n",
      "Epoch 41/1000\n",
      "7/7 [==============================] - 0s 2ms/step - loss: 0.4166 - accuracy: 0.8214 - val_loss: 0.6388 - val_accuracy: 0.6267\n",
      "Epoch 42/1000\n",
      "7/7 [==============================] - 0s 2ms/step - loss: 0.4131 - accuracy: 0.8259 - val_loss: 0.6375 - val_accuracy: 0.6267\n",
      "Epoch 43/1000\n",
      "7/7 [==============================] - 0s 2ms/step - loss: 0.4099 - accuracy: 0.8214 - val_loss: 0.6364 - val_accuracy: 0.6400\n",
      "Epoch 44/1000\n",
      "7/7 [==============================] - 0s 2ms/step - loss: 0.4065 - accuracy: 0.8259 - val_loss: 0.6353 - val_accuracy: 0.6400\n",
      "Epoch 45/1000\n",
      "7/7 [==============================] - 0s 2ms/step - loss: 0.4035 - accuracy: 0.8259 - val_loss: 0.6342 - val_accuracy: 0.6400\n",
      "Epoch 46/1000\n",
      "7/7 [==============================] - 0s 2ms/step - loss: 0.4001 - accuracy: 0.8304 - val_loss: 0.6331 - val_accuracy: 0.6400\n",
      "Epoch 47/1000\n",
      "7/7 [==============================] - 0s 2ms/step - loss: 0.3971 - accuracy: 0.8304 - val_loss: 0.6319 - val_accuracy: 0.6400\n",
      "Epoch 48/1000\n",
      "7/7 [==============================] - 0s 2ms/step - loss: 0.3943 - accuracy: 0.8304 - val_loss: 0.6311 - val_accuracy: 0.6533\n",
      "Epoch 49/1000\n",
      "7/7 [==============================] - 0s 2ms/step - loss: 0.3913 - accuracy: 0.8304 - val_loss: 0.6301 - val_accuracy: 0.6533\n",
      "Epoch 50/1000\n",
      "7/7 [==============================] - 0s 2ms/step - loss: 0.3883 - accuracy: 0.8304 - val_loss: 0.6293 - val_accuracy: 0.6533\n",
      "Epoch 51/1000\n",
      "7/7 [==============================] - 0s 2ms/step - loss: 0.3854 - accuracy: 0.8348 - val_loss: 0.6284 - val_accuracy: 0.6533\n",
      "Epoch 52/1000\n",
      "7/7 [==============================] - 0s 2ms/step - loss: 0.3824 - accuracy: 0.8348 - val_loss: 0.6274 - val_accuracy: 0.6667\n",
      "Epoch 53/1000\n",
      "7/7 [==============================] - 0s 2ms/step - loss: 0.3798 - accuracy: 0.8348 - val_loss: 0.6267 - val_accuracy: 0.6667\n",
      "Epoch 54/1000\n",
      "7/7 [==============================] - 0s 2ms/step - loss: 0.3772 - accuracy: 0.8348 - val_loss: 0.6258 - val_accuracy: 0.6667\n",
      "Epoch 55/1000\n",
      "7/7 [==============================] - 0s 2ms/step - loss: 0.3746 - accuracy: 0.8348 - val_loss: 0.6252 - val_accuracy: 0.6667\n",
      "Epoch 56/1000\n",
      "7/7 [==============================] - 0s 2ms/step - loss: 0.3721 - accuracy: 0.8348 - val_loss: 0.6246 - val_accuracy: 0.6667\n",
      "Epoch 57/1000\n",
      "7/7 [==============================] - 0s 2ms/step - loss: 0.3698 - accuracy: 0.8348 - val_loss: 0.6242 - val_accuracy: 0.6667\n",
      "Epoch 58/1000\n",
      "7/7 [==============================] - 0s 2ms/step - loss: 0.3671 - accuracy: 0.8348 - val_loss: 0.6237 - val_accuracy: 0.6667\n",
      "Epoch 59/1000\n",
      "7/7 [==============================] - 0s 2ms/step - loss: 0.3646 - accuracy: 0.8348 - val_loss: 0.6231 - val_accuracy: 0.6667\n",
      "Epoch 60/1000\n",
      "7/7 [==============================] - 0s 2ms/step - loss: 0.3623 - accuracy: 0.8393 - val_loss: 0.6226 - val_accuracy: 0.6667\n",
      "Epoch 61/1000\n",
      "7/7 [==============================] - 0s 2ms/step - loss: 0.3600 - accuracy: 0.8393 - val_loss: 0.6220 - val_accuracy: 0.6667\n",
      "Epoch 62/1000\n",
      "7/7 [==============================] - 0s 2ms/step - loss: 0.3578 - accuracy: 0.8393 - val_loss: 0.6216 - val_accuracy: 0.6667\n",
      "Epoch 63/1000\n",
      "7/7 [==============================] - 0s 2ms/step - loss: 0.3554 - accuracy: 0.8393 - val_loss: 0.6211 - val_accuracy: 0.6667\n",
      "Epoch 64/1000\n",
      "7/7 [==============================] - 0s 2ms/step - loss: 0.3532 - accuracy: 0.8393 - val_loss: 0.6209 - val_accuracy: 0.6667\n",
      "Epoch 65/1000\n",
      "7/7 [==============================] - 0s 2ms/step - loss: 0.3509 - accuracy: 0.8438 - val_loss: 0.6205 - val_accuracy: 0.6667\n",
      "Epoch 66/1000\n",
      "7/7 [==============================] - 0s 2ms/step - loss: 0.3487 - accuracy: 0.8438 - val_loss: 0.6199 - val_accuracy: 0.6800\n",
      "Epoch 67/1000\n",
      "7/7 [==============================] - 0s 2ms/step - loss: 0.3466 - accuracy: 0.8482 - val_loss: 0.6196 - val_accuracy: 0.6800\n",
      "Epoch 68/1000\n",
      "7/7 [==============================] - 0s 2ms/step - loss: 0.3447 - accuracy: 0.8482 - val_loss: 0.6193 - val_accuracy: 0.6800\n",
      "Epoch 69/1000\n",
      "7/7 [==============================] - 0s 2ms/step - loss: 0.3427 - accuracy: 0.8527 - val_loss: 0.6192 - val_accuracy: 0.6800\n",
      "Epoch 70/1000\n",
      "7/7 [==============================] - 0s 2ms/step - loss: 0.3406 - accuracy: 0.8527 - val_loss: 0.6191 - val_accuracy: 0.6800\n",
      "Epoch 71/1000\n",
      "7/7 [==============================] - 0s 2ms/step - loss: 0.3385 - accuracy: 0.8527 - val_loss: 0.6188 - val_accuracy: 0.6800\n",
      "Epoch 72/1000\n",
      "7/7 [==============================] - 0s 2ms/step - loss: 0.3365 - accuracy: 0.8571 - val_loss: 0.6190 - val_accuracy: 0.6800\n",
      "Epoch 73/1000\n",
      "7/7 [==============================] - 0s 2ms/step - loss: 0.3347 - accuracy: 0.8571 - val_loss: 0.6188 - val_accuracy: 0.6800\n",
      "Epoch 74/1000\n",
      "7/7 [==============================] - 0s 2ms/step - loss: 0.3327 - accuracy: 0.8571 - val_loss: 0.6186 - val_accuracy: 0.6800\n",
      "Epoch 75/1000\n",
      "7/7 [==============================] - 0s 2ms/step - loss: 0.3311 - accuracy: 0.8616 - val_loss: 0.6187 - val_accuracy: 0.6800\n",
      "Epoch 76/1000\n",
      "7/7 [==============================] - 0s 2ms/step - loss: 0.3292 - accuracy: 0.8661 - val_loss: 0.6184 - val_accuracy: 0.6800\n",
      "Epoch 77/1000\n",
      "7/7 [==============================] - 0s 2ms/step - loss: 0.3275 - accuracy: 0.8616 - val_loss: 0.6186 - val_accuracy: 0.6800\n",
      "Epoch 78/1000\n",
      "7/7 [==============================] - 0s 2ms/step - loss: 0.3256 - accuracy: 0.8661 - val_loss: 0.6184 - val_accuracy: 0.6800\n",
      "Epoch 79/1000\n",
      "7/7 [==============================] - 0s 2ms/step - loss: 0.3238 - accuracy: 0.8750 - val_loss: 0.6185 - val_accuracy: 0.6800\n",
      "Epoch 80/1000\n",
      "7/7 [==============================] - 0s 2ms/step - loss: 0.3224 - accuracy: 0.8750 - val_loss: 0.6187 - val_accuracy: 0.6933\n",
      "Epoch 81/1000\n",
      "7/7 [==============================] - 0s 2ms/step - loss: 0.3204 - accuracy: 0.8705 - val_loss: 0.6187 - val_accuracy: 0.6933\n",
      "Epoch 82/1000\n",
      "7/7 [==============================] - 0s 2ms/step - loss: 0.3187 - accuracy: 0.8750 - val_loss: 0.6189 - val_accuracy: 0.6933\n",
      "Epoch 83/1000\n",
      "7/7 [==============================] - 0s 2ms/step - loss: 0.3169 - accuracy: 0.8750 - val_loss: 0.6193 - val_accuracy: 0.6933\n",
      "Epoch 84/1000\n",
      "7/7 [==============================] - 0s 2ms/step - loss: 0.3154 - accuracy: 0.8795 - val_loss: 0.6196 - val_accuracy: 0.7067\n",
      "Epoch 85/1000\n",
      "7/7 [==============================] - 0s 2ms/step - loss: 0.3138 - accuracy: 0.8795 - val_loss: 0.6202 - val_accuracy: 0.7067\n",
      "Epoch 86/1000\n",
      "7/7 [==============================] - 0s 2ms/step - loss: 0.3121 - accuracy: 0.8795 - val_loss: 0.6206 - val_accuracy: 0.7067\n"
     ]
    },
    {
     "data": {
      "text/plain": [
       "<keras.src.callbacks.History at 0x2858b2e90>"
      ]
     },
     "execution_count": 29,
     "metadata": {},
     "output_type": "execute_result"
    }
   ],
   "source": [
    "optimizer = SGD(learning_rate=0.01)\n",
    "\n",
    "model.compile(loss=\"binary_crossentropy\", optimizer=optimizer, metrics=[\"accuracy\"])\n",
    "early_stopping = EarlyStopping(monitor=\"val_loss\", patience=10, restore_best_weights=True)\n",
    "\n",
    "model.fit(X_train, y_train, epochs=1000, validation_data=(X_test, y_test), callbacks=[early_stopping])"
   ]
  },
  {
   "cell_type": "code",
   "execution_count": 5,
   "id": "c69a2973-f604-4c64-ab09-f3f34d439286",
   "metadata": {
    "tags": []
   },
   "outputs": [
    {
     "name": "stdout",
     "output_type": "stream",
     "text": [
      "Test loss: 1.3495091199874878\n",
      "Test accuracy: 0.6800000071525574\n"
     ]
    }
   ],
   "source": [
    "score = model.evaluate(X_test, y_test, verbose=0)\n",
    "print(\"Test loss:\", score[0])\n",
    "print(\"Test accuracy:\", score[1])"
   ]
  },
  {
   "cell_type": "code",
   "execution_count": 24,
   "id": "cf702860-5eb9-4722-940c-90ab41ca8b10",
   "metadata": {
    "tags": []
   },
   "outputs": [
    {
     "name": "stderr",
     "output_type": "stream",
     "text": [
      "WARNING:absl:At this time, the v2.11+ optimizer `tf.keras.optimizers.RMSprop` runs slowly on M1/M2 Macs, please use the legacy Keras optimizer instead, located at `tf.keras.optimizers.legacy.RMSprop`.\n"
     ]
    },
    {
     "name": "stdout",
     "output_type": "stream",
     "text": [
      "Epoch 1/1000\n",
      "7/7 [==============================] - 0s 9ms/step - loss: 4.7994e-07 - accuracy: 1.0000 - val_loss: 6.4694 - val_accuracy: 0.7200\n",
      "Epoch 2/1000\n",
      "7/7 [==============================] - 0s 2ms/step - loss: 4.8042e-07 - accuracy: 1.0000 - val_loss: 6.4708 - val_accuracy: 0.7200\n",
      "Epoch 3/1000\n",
      "7/7 [==============================] - 0s 2ms/step - loss: 4.8095e-07 - accuracy: 1.0000 - val_loss: 6.4710 - val_accuracy: 0.7200\n",
      "Epoch 4/1000\n",
      "7/7 [==============================] - 0s 2ms/step - loss: 4.7813e-07 - accuracy: 1.0000 - val_loss: 6.4713 - val_accuracy: 0.7200\n",
      "Epoch 5/1000\n",
      "7/7 [==============================] - 0s 2ms/step - loss: 4.7907e-07 - accuracy: 1.0000 - val_loss: 6.4723 - val_accuracy: 0.7200\n",
      "Epoch 6/1000\n",
      "7/7 [==============================] - 0s 2ms/step - loss: 4.7923e-07 - accuracy: 1.0000 - val_loss: 6.4725 - val_accuracy: 0.7200\n",
      "Epoch 7/1000\n",
      "7/7 [==============================] - 0s 3ms/step - loss: 4.7901e-07 - accuracy: 1.0000 - val_loss: 6.4738 - val_accuracy: 0.7200\n",
      "Epoch 8/1000\n",
      "7/7 [==============================] - 0s 2ms/step - loss: 4.7671e-07 - accuracy: 1.0000 - val_loss: 6.4737 - val_accuracy: 0.7200\n",
      "Epoch 9/1000\n",
      "7/7 [==============================] - 0s 3ms/step - loss: 4.7658e-07 - accuracy: 1.0000 - val_loss: 6.4738 - val_accuracy: 0.7200\n",
      "Epoch 10/1000\n",
      "7/7 [==============================] - 0s 2ms/step - loss: 4.7706e-07 - accuracy: 1.0000 - val_loss: 6.4741 - val_accuracy: 0.7200\n",
      "Epoch 11/1000\n",
      "7/7 [==============================] - 0s 3ms/step - loss: 4.7424e-07 - accuracy: 1.0000 - val_loss: 6.4741 - val_accuracy: 0.7200\n"
     ]
    },
    {
     "data": {
      "text/plain": [
       "<keras.src.callbacks.History at 0x284c36ed0>"
      ]
     },
     "execution_count": 24,
     "metadata": {},
     "output_type": "execute_result"
    }
   ],
   "source": [
    "optimizer = RMSprop(learning_rate=0.01)\n",
    "\n",
    "model.compile(loss=\"binary_crossentropy\", optimizer=optimizer, metrics=[\"accuracy\"])\n",
    "early_stopping = EarlyStopping(monitor=\"val_loss\", patience=10, restore_best_weights=True)\n",
    "\n",
    "model.fit(X_train, y_train, epochs=1000, validation_data=(X_test, y_test), callbacks=[early_stopping])"
   ]
  },
  {
   "cell_type": "code",
   "execution_count": 25,
   "id": "450cc4c0-5d3a-4a71-8942-2af526ec6ee6",
   "metadata": {
    "tags": []
   },
   "outputs": [
    {
     "name": "stdout",
     "output_type": "stream",
     "text": [
      "Test loss: 6.469379901885986\n",
      "Test accuracy: 0.7200000286102295\n"
     ]
    }
   ],
   "source": [
    "score = model.evaluate(X_test, y_test, verbose=0)\n",
    "print(\"Test loss:\", score[0])\n",
    "print(\"Test accuracy:\", score[1])"
   ]
  },
  {
   "cell_type": "code",
   "execution_count": 26,
   "id": "4943a455-a18b-41cf-be11-18d169fd75d8",
   "metadata": {
    "tags": []
   },
   "outputs": [
    {
     "name": "stderr",
     "output_type": "stream",
     "text": [
      "WARNING:absl:At this time, the v2.11+ optimizer `tf.keras.optimizers.Adagrad` runs slowly on M1/M2 Macs, please use the legacy Keras optimizer instead, located at `tf.keras.optimizers.legacy.Adagrad`.\n"
     ]
    },
    {
     "name": "stdout",
     "output_type": "stream",
     "text": [
      "Epoch 1/1000\n",
      "7/7 [==============================] - 0s 10ms/step - loss: 4.7573e-07 - accuracy: 1.0000 - val_loss: 6.4694 - val_accuracy: 0.7200\n",
      "Epoch 2/1000\n",
      "7/7 [==============================] - 0s 3ms/step - loss: 4.7573e-07 - accuracy: 1.0000 - val_loss: 6.4694 - val_accuracy: 0.7200\n",
      "Epoch 3/1000\n",
      "7/7 [==============================] - 0s 2ms/step - loss: 4.7573e-07 - accuracy: 1.0000 - val_loss: 6.4694 - val_accuracy: 0.7200\n",
      "Epoch 4/1000\n",
      "7/7 [==============================] - 0s 2ms/step - loss: 4.7573e-07 - accuracy: 1.0000 - val_loss: 6.4694 - val_accuracy: 0.7200\n",
      "Epoch 5/1000\n",
      "7/7 [==============================] - 0s 2ms/step - loss: 4.7573e-07 - accuracy: 1.0000 - val_loss: 6.4694 - val_accuracy: 0.7200\n",
      "Epoch 6/1000\n",
      "7/7 [==============================] - 0s 2ms/step - loss: 4.7573e-07 - accuracy: 1.0000 - val_loss: 6.4694 - val_accuracy: 0.7200\n",
      "Epoch 7/1000\n",
      "7/7 [==============================] - 0s 2ms/step - loss: 4.7573e-07 - accuracy: 1.0000 - val_loss: 6.4694 - val_accuracy: 0.7200\n",
      "Epoch 8/1000\n",
      "7/7 [==============================] - 0s 2ms/step - loss: 4.7573e-07 - accuracy: 1.0000 - val_loss: 6.4694 - val_accuracy: 0.7200\n",
      "Epoch 9/1000\n",
      "7/7 [==============================] - 0s 2ms/step - loss: 4.7573e-07 - accuracy: 1.0000 - val_loss: 6.4694 - val_accuracy: 0.7200\n",
      "Epoch 10/1000\n",
      "7/7 [==============================] - 0s 2ms/step - loss: 4.7573e-07 - accuracy: 1.0000 - val_loss: 6.4694 - val_accuracy: 0.7200\n",
      "Epoch 11/1000\n",
      "7/7 [==============================] - 0s 2ms/step - loss: 4.7573e-07 - accuracy: 1.0000 - val_loss: 6.4694 - val_accuracy: 0.7200\n",
      "Epoch 12/1000\n",
      "7/7 [==============================] - 0s 2ms/step - loss: 4.7573e-07 - accuracy: 1.0000 - val_loss: 6.4694 - val_accuracy: 0.7200\n"
     ]
    },
    {
     "data": {
      "text/plain": [
       "<keras.src.callbacks.History at 0x285882e90>"
      ]
     },
     "execution_count": 26,
     "metadata": {},
     "output_type": "execute_result"
    }
   ],
   "source": [
    "optimizer = Adagrad(learning_rate=0.01)\n",
    "\n",
    "model.compile(loss=\"binary_crossentropy\", optimizer=optimizer, metrics=[\"accuracy\"])\n",
    "early_stopping = EarlyStopping(monitor=\"val_loss\", patience=10, restore_best_weights=True)\n",
    "\n",
    "model.fit(X_train, y_train, epochs=1000, validation_data=(X_test, y_test), callbacks=[early_stopping])"
   ]
  },
  {
   "cell_type": "code",
   "execution_count": 27,
   "id": "a370540b-8c34-42df-88b0-11b842ffc432",
   "metadata": {
    "tags": []
   },
   "outputs": [
    {
     "name": "stdout",
     "output_type": "stream",
     "text": [
      "Test loss: 6.469379901885986\n",
      "Test accuracy: 0.7200000286102295\n"
     ]
    }
   ],
   "source": [
    "score = model.evaluate(X_test, y_test, verbose=0)\n",
    "print(\"Test loss:\", score[0])\n",
    "print(\"Test accuracy:\", score[1])"
   ]
  }
 ],
 "metadata": {
  "kernelspec": {
   "display_name": "Python 3 (ipykernel)",
   "language": "python",
   "name": "python3"
  },
  "language_info": {
   "codemirror_mode": {
    "name": "ipython",
    "version": 3
   },
   "file_extension": ".py",
   "mimetype": "text/x-python",
   "name": "python",
   "nbconvert_exporter": "python",
   "pygments_lexer": "ipython3",
   "version": "3.11.5"
  }
 },
 "nbformat": 4,
 "nbformat_minor": 5
}
