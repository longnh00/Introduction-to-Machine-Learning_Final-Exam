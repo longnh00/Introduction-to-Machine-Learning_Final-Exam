{
 "cells": [
  {
   "cell_type": "code",
   "execution_count": 1,
   "id": "b71106a6-7985-402f-878c-93a0b4289a5e",
   "metadata": {
    "tags": []
   },
   "outputs": [],
   "source": [
    "#51800577_NguyenHoangLong\n",
    "#51800890_ChauViHoangLong"
   ]
  },
  {
   "cell_type": "code",
   "execution_count": 19,
   "id": "eaba7221-4a03-484e-a91d-9ba028020171",
   "metadata": {
    "tags": []
   },
   "outputs": [],
   "source": [
    "import numpy as np\n",
    "import pandas as pd\n",
    "from sklearn.model_selection import train_test_split\n",
    "from sklearn.preprocessing import StandardScaler\n",
    "from keras.models import Sequential\n",
    "from keras.layers import LSTM, Dense, Dropout\n",
    "from keras.optimizers import SGD, RMSprop, Adagrad\n",
    "from keras.regularizers import l2\n",
    "from tensorflow.keras.callbacks import EarlyStopping"
   ]
  },
  {
   "cell_type": "code",
   "execution_count": 23,
   "id": "8c57c9ab-c9ce-4d96-b8f5-4efdf27aafb1",
   "metadata": {
    "tags": []
   },
   "outputs": [],
   "source": [
    "df = pd.read_csv(\"heart_failure_clinical_records.csv\")\n",
    "\n",
    "X = df.drop(\"DEATH_EVENT\", axis=1)\n",
    "y = df[\"DEATH_EVENT\"]\n",
    "\n",
    "X_train, X_test, y_train, y_test = train_test_split(X, y, test_size=0.2, random_state=42)\n",
    "\n",
    "scaler = StandardScaler()\n",
    "\n",
    "X_train = X_train.values  \n",
    "X_test = X_test.values \n",
    "\n",
    "X_train = X_train.reshape((X_train.shape[0], 1, X_train.shape[1]))\n",
    "X_test = X_test.reshape((X_test.shape[0], 1, X_test.shape[1]))"
   ]
  },
  {
   "cell_type": "code",
   "execution_count": 26,
   "id": "a95a5e6b-7205-4c67-a733-8c5628673a5b",
   "metadata": {
    "tags": []
   },
   "outputs": [],
   "source": [
    "model = Sequential()\n",
    "model.add(LSTM(128, input_shape=(1, X_train.shape[2])))\n",
    "model.add(Dropout(0.5))\n",
    "model.add(Dense(1, activation=\"sigmoid\"))"
   ]
  },
  {
   "cell_type": "code",
   "execution_count": 31,
   "id": "cb65ef5b-faa9-49fb-b8d4-5ee7a263d954",
   "metadata": {
    "tags": []
   },
   "outputs": [
    {
     "name": "stdout",
     "output_type": "stream",
     "text": [
      "Epoch 1/1000\n",
      "6/6 [==============================] - 1s 35ms/step - loss: 0.6673 - accuracy: 0.6911 - val_loss: 0.5664 - val_accuracy: 0.7500\n",
      "Epoch 2/1000\n",
      "6/6 [==============================] - 0s 3ms/step - loss: 0.6560 - accuracy: 0.6597 - val_loss: 0.5743 - val_accuracy: 0.7500\n",
      "Epoch 3/1000\n",
      "6/6 [==============================] - 0s 4ms/step - loss: 0.6291 - accuracy: 0.6806 - val_loss: 0.5609 - val_accuracy: 0.7500\n",
      "Epoch 4/1000\n",
      "6/6 [==============================] - 0s 4ms/step - loss: 0.6465 - accuracy: 0.6806 - val_loss: 0.5961 - val_accuracy: 0.7500\n",
      "Epoch 5/1000\n",
      "6/6 [==============================] - 0s 4ms/step - loss: 0.6538 - accuracy: 0.6806 - val_loss: 0.5943 - val_accuracy: 0.7500\n",
      "Epoch 6/1000\n",
      "6/6 [==============================] - 0s 4ms/step - loss: 0.6318 - accuracy: 0.6911 - val_loss: 0.5709 - val_accuracy: 0.7500\n",
      "Epoch 7/1000\n",
      "6/6 [==============================] - 0s 4ms/step - loss: 0.6356 - accuracy: 0.6859 - val_loss: 0.5797 - val_accuracy: 0.7500\n",
      "Epoch 8/1000\n",
      "6/6 [==============================] - 0s 4ms/step - loss: 0.6457 - accuracy: 0.6911 - val_loss: 0.5843 - val_accuracy: 0.7500\n",
      "Epoch 9/1000\n",
      "6/6 [==============================] - 0s 3ms/step - loss: 0.6258 - accuracy: 0.6911 - val_loss: 0.5772 - val_accuracy: 0.7500\n",
      "Epoch 10/1000\n",
      "6/6 [==============================] - 0s 4ms/step - loss: 0.6329 - accuracy: 0.6911 - val_loss: 0.5873 - val_accuracy: 0.7500\n",
      "Epoch 11/1000\n",
      "6/6 [==============================] - 0s 3ms/step - loss: 0.6233 - accuracy: 0.6963 - val_loss: 0.5640 - val_accuracy: 0.7500\n",
      "Epoch 12/1000\n",
      "6/6 [==============================] - 0s 3ms/step - loss: 0.6353 - accuracy: 0.6911 - val_loss: 0.5827 - val_accuracy: 0.7500\n",
      "Epoch 13/1000\n",
      "6/6 [==============================] - 0s 4ms/step - loss: 0.6337 - accuracy: 0.6911 - val_loss: 0.5749 - val_accuracy: 0.7500\n"
     ]
    },
    {
     "data": {
      "text/plain": [
       "<keras.src.callbacks.History at 0x2858909d0>"
      ]
     },
     "execution_count": 31,
     "metadata": {},
     "output_type": "execute_result"
    }
   ],
   "source": [
    "model.compile(loss=\"binary_crossentropy\", optimizer=optimizer, metrics=[\"accuracy\"])\n",
    "\n",
    "# Implement Early Stopping\n",
    "early_stopping = EarlyStopping(monitor=\"val_loss\", patience=10, restore_best_weights=True)\n",
    "\n",
    "# Train the model\n",
    "model.fit(X_train, y_train, epochs=1000, validation_split=0.2, callbacks=[early_stopping])"
   ]
  },
  {
   "cell_type": "code",
   "execution_count": 32,
   "id": "c06f9fcc-8287-417a-9f48-a017eb630e46",
   "metadata": {
    "tags": []
   },
   "outputs": [
    {
     "name": "stdout",
     "output_type": "stream",
     "text": [
      "2/2 [==============================] - 0s 2ms/step - loss: 0.7328 - accuracy: 0.5833\n",
      "Test loss: 0.7327903509140015\n",
      "Test accuracy: 0.5833333134651184\n"
     ]
    }
   ],
   "source": [
    "score = model.evaluate(X_test, y_test)\n",
    "print(\"Test loss:\", score[0])\n",
    "print(\"Test accuracy:\", score[1])"
   ]
  },
  {
   "cell_type": "code",
   "execution_count": 35,
   "id": "2514bdd6-cd0d-41a1-a9a4-1daf1a9730d1",
   "metadata": {
    "tags": []
   },
   "outputs": [
    {
     "name": "stderr",
     "output_type": "stream",
     "text": [
      "WARNING:absl:At this time, the v2.11+ optimizer `tf.keras.optimizers.Adagrad` runs slowly on M1/M2 Macs, please use the legacy Keras optimizer instead, located at `tf.keras.optimizers.legacy.Adagrad`.\n"
     ]
    },
    {
     "name": "stdout",
     "output_type": "stream",
     "text": [
      "Epoch 1/500\n",
      "6/6 [==============================] - 1s 36ms/step - loss: 0.6302 - accuracy: 0.6859 - val_loss: 0.5669 - val_accuracy: 0.7500\n",
      "Epoch 2/500\n",
      "6/6 [==============================] - 0s 3ms/step - loss: 0.6417 - accuracy: 0.6806 - val_loss: 0.5664 - val_accuracy: 0.7500\n",
      "Epoch 3/500\n",
      "6/6 [==============================] - 0s 3ms/step - loss: 0.6210 - accuracy: 0.6859 - val_loss: 0.5687 - val_accuracy: 0.7500\n",
      "Epoch 4/500\n",
      "6/6 [==============================] - 0s 4ms/step - loss: 0.6358 - accuracy: 0.7016 - val_loss: 0.5693 - val_accuracy: 0.7500\n",
      "Epoch 5/500\n",
      "6/6 [==============================] - 0s 3ms/step - loss: 0.6282 - accuracy: 0.6963 - val_loss: 0.5703 - val_accuracy: 0.7500\n",
      "Epoch 6/500\n",
      "6/6 [==============================] - 0s 3ms/step - loss: 0.6339 - accuracy: 0.6911 - val_loss: 0.5701 - val_accuracy: 0.7500\n",
      "Epoch 7/500\n",
      "6/6 [==============================] - 0s 3ms/step - loss: 0.6046 - accuracy: 0.6963 - val_loss: 0.5700 - val_accuracy: 0.7500\n",
      "Epoch 8/500\n",
      "6/6 [==============================] - 0s 3ms/step - loss: 0.6154 - accuracy: 0.6859 - val_loss: 0.5688 - val_accuracy: 0.7500\n",
      "Epoch 9/500\n",
      "6/6 [==============================] - 0s 4ms/step - loss: 0.6358 - accuracy: 0.6859 - val_loss: 0.5695 - val_accuracy: 0.7500\n",
      "Epoch 10/500\n",
      "6/6 [==============================] - 0s 3ms/step - loss: 0.6239 - accuracy: 0.6859 - val_loss: 0.5690 - val_accuracy: 0.7500\n",
      "Epoch 11/500\n",
      "6/6 [==============================] - 0s 3ms/step - loss: 0.6385 - accuracy: 0.6911 - val_loss: 0.5701 - val_accuracy: 0.7500\n",
      "Epoch 12/500\n",
      "6/6 [==============================] - 0s 4ms/step - loss: 0.6428 - accuracy: 0.6911 - val_loss: 0.5709 - val_accuracy: 0.7500\n"
     ]
    },
    {
     "data": {
      "text/plain": [
       "<keras.src.callbacks.History at 0x28acc6f90>"
      ]
     },
     "execution_count": 35,
     "metadata": {},
     "output_type": "execute_result"
    }
   ],
   "source": [
    "optimizer = Adagrad(learning_rate=0.01)\n",
    "\n",
    "model.compile(loss=\"binary_crossentropy\", optimizer=optimizer, metrics=[\"accuracy\"])\n",
    "\n",
    "early_stopping = EarlyStopping(monitor=\"val_loss\", patience=10, restore_best_weights=True)\n",
    "\n",
    "model.fit(X_train, y_train, epochs=500, validation_split=0.2, callbacks=[early_stopping])"
   ]
  },
  {
   "cell_type": "code",
   "execution_count": 36,
   "id": "ecf6b720-2fca-4821-b569-bd7040fbe78d",
   "metadata": {
    "tags": []
   },
   "outputs": [
    {
     "name": "stdout",
     "output_type": "stream",
     "text": [
      "2/2 [==============================] - 0s 2ms/step - loss: 0.7077 - accuracy: 0.5833\n",
      "Test loss: 0.7076974511146545\n",
      "Test accuracy: 0.5833333134651184\n"
     ]
    }
   ],
   "source": [
    "score = model.evaluate(X_test, y_test)\n",
    "print(\"Test loss:\", score[0])\n",
    "print(\"Test accuracy:\", score[1])"
   ]
  },
  {
   "cell_type": "code",
   "execution_count": null,
   "id": "7be98ed8-4a96-42aa-84d6-1cca9c520367",
   "metadata": {},
   "outputs": [],
   "source": []
  }
 ],
 "metadata": {
  "kernelspec": {
   "display_name": "Python 3 (ipykernel)",
   "language": "python",
   "name": "python3"
  },
  "language_info": {
   "codemirror_mode": {
    "name": "ipython",
    "version": 3
   },
   "file_extension": ".py",
   "mimetype": "text/x-python",
   "name": "python",
   "nbconvert_exporter": "python",
   "pygments_lexer": "ipython3",
   "version": "3.11.5"
  }
 },
 "nbformat": 4,
 "nbformat_minor": 5
}
